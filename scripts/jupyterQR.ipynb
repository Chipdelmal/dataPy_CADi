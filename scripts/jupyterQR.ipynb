{
 "cells": [
  {
   "cell_type": "markdown",
   "metadata": {},
   "source": [
    "# QR Code Generator"
   ]
  },
  {
   "cell_type": "markdown",
   "metadata": {},
   "source": [
    "## Information\n",
    "* Objectives: To create and export a qr code from jupyter\n",
    "* Source: https://github.com/mnooner256/pyqrcode"
   ]
  },
  {
   "cell_type": "code",
   "execution_count": 8,
   "metadata": {},
   "outputs": [],
   "source": [
    "import pyqrcode\n",
    "import sys"
   ]
  },
  {
   "cell_type": "markdown",
   "metadata": {},
   "source": [
    "Exporting a basic QR code"
   ]
  },
  {
   "cell_type": "code",
   "execution_count": 9,
   "metadata": {},
   "outputs": [],
   "source": [
    "url = pyqrcode.create('https://github.com/Chipdelmal')\n",
    "url.svg('./images/qrURL.svg', scale=15, module_color=\"#7D007D\")\n",
    "url.png(\n",
    "    './images/qrURL.png',\n",
    "    scale=20\n",
    ")"
   ]
  },
  {
   "cell_type": "markdown",
   "metadata": {},
   "source": [
    "* The error parameter sets the error correction level of the code. Each level has an associated name given by a letter: L, M, Q, or H; each level can correct up to 7, 15, 25, or 30 percent of the data respectively.\n",
    "* The version parameter specifies the size and data capacity of the code. Versions are any integer between 1 and 40, where version 1 is the smallest QR code, and version 40 is the largest.\n",
    "* Mode parameter sets how the contents will be encoded. As mentioned above, three of the five possible encodings have been written."
   ]
  },
  {
   "cell_type": "code",
   "execution_count": 10,
   "metadata": {},
   "outputs": [],
   "source": [
    "url = pyqrcode.create(\n",
    "    'https://github.com/Chipdelmal',\n",
    "    error=\"H\",\n",
    "    version=10\n",
    ")\n",
    "url.png(\n",
    "    './images/qrURLH.png',\n",
    "    scale=20,\n",
    "    module_color=(0, 0, 0, 0),\n",
    "    background=(0xff, 0xff, 0xff)\n",
    ")\n"
   ]
  },
  {
   "cell_type": "markdown",
   "metadata": {},
   "source": [
    "## Sources and References\n",
    "* https://pypi.org/project/PyQRCode/\n",
    "* https://github.com/mnooner256/pyqrcode\n",
    "* https://pythonhosted.org/PyQRCode/"
   ]
  },
  {
   "cell_type": "code",
   "execution_count": null,
   "metadata": {},
   "outputs": [],
   "source": []
  }
 ],
 "metadata": {
  "kernelspec": {
   "display_name": "dataPy",
   "language": "python",
   "name": "datapy"
  },
  "language_info": {
   "codemirror_mode": {
    "name": "ipython",
    "version": 3
   },
   "file_extension": ".py",
   "mimetype": "text/x-python",
   "name": "python",
   "nbconvert_exporter": "python",
   "pygments_lexer": "ipython3",
   "version": "3.7.3"
  }
 },
 "nbformat": 4,
 "nbformat_minor": 2
}
